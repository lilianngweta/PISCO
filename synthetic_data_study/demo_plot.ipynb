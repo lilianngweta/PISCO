{
 "cells": [
  {
   "cell_type": "code",
   "execution_count": 1,
   "metadata": {},
   "outputs": [
    {
     "name": "stderr",
     "output_type": "stream",
     "text": [
      "/home/smaity/py36/lib64/python3.6/site-packages/ipykernel_launcher.py:11: MatplotlibDeprecationWarning: Support for setting the 'text.latex.preamble' or 'pgf.preamble' rcParam to a list of strings is deprecated since 3.3 and will be removed two minor releases later; set it to a single string instead.\n",
      "  # This is added back by InteractiveShellApp.init_path()\n"
     ]
    }
   ],
   "source": [
    "import numpy as np\n",
    "import pandas as pd\n",
    "import matplotlib.pyplot as plt\n",
    "from matplotlib.lines import Line2D\n",
    "import json, os, glob, re\n",
    "\n",
    "import matplotlib\n",
    "matplotlib.rcParams['text.usetex'] = True\n",
    "matplotlib.rcParams['text.latex.preamble'] = [\n",
    "    r'\\usepackage{amsmath}',\n",
    "    r'\\usepackage{amssymb}']\n",
    "from expt import expt"
   ]
  },
  {
   "cell_type": "markdown",
   "metadata": {},
   "source": [
    "## Demo"
   ]
  },
  {
   "cell_type": "code",
   "execution_count": 2,
   "metadata": {},
   "outputs": [
    {
     "name": "stdout",
     "output_type": "stream",
     "text": [
      "Discrepency in style recovery is 0.0023 and style-content disentangelement is 0.0066.\n",
      "\n"
     ]
    }
   ],
   "source": [
    "style_recovery, style_content_disentagle = expt(n = 10000, d = 10,\n",
    "                                                d_style = 5, rho1 = 0.9, \n",
    "                                                rho2 = 0.9, lam = 1e4, seed = 0)\n",
    "\n",
    "print(f'Discrepency in style recovery is {style_recovery:.4f} and style-content disentangelement is {style_content_disentagle:.4f}.\\n')"
   ]
  },
  {
   "cell_type": "markdown",
   "metadata": {},
   "source": [
    "## Simulation plot from saved summary"
   ]
  },
  {
   "cell_type": "code",
   "execution_count": 3,
   "metadata": {},
   "outputs": [],
   "source": [
    "path = 'summary/'\n",
    "\n",
    "list_dir = []\n",
    "\n",
    "for file in glob.glob(path + '*.json'):\n",
    "    with open(file) as f:\n",
    "        data = json.load(f)\n",
    "        list_dir.append(data)\n",
    "        \n",
    "df = pd.DataFrame(list_dir)\n",
    "\n",
    "keys = ['rho1', 'rho2', 'lam']\n",
    "measure = ['style_recovery', 'style_content_disentagle']\n",
    "variables = {}\n",
    "for index in measure:\n",
    "    variables[index] = ['mean', 'std']\n",
    "summary = df.groupby(keys, as_index=False).agg(variables)"
   ]
  },
  {
   "cell_type": "code",
   "execution_count": 4,
   "metadata": {},
   "outputs": [
    {
     "data": {
      "image/png": "[encoded data removed]",
      "text/plain": [
       "<Figure size 432x288 with 1 Axes>"
      ]
     },
     "metadata": {
      "needs_background": "light"
     },
     "output_type": "display_data"
    }
   ],
   "source": [
    "labelsize = 15\n",
    "ticksize = 15\n",
    "mks = ['+', 'x', 'o']\n",
    "cols = ['g', 'k']\n",
    "ltys = ['-', '--', '-.']\n",
    "rhos = summary.rho2.unique()\n",
    "summary1 = summary.loc[summary[('rho1', '')] == 0.9]\n",
    "\n",
    "\n",
    "fig, ax2 = plt.subplots(1, 1)\n",
    "\n",
    "\n",
    "for rho, lty, mk in zip(rhos, ltys, mks):\n",
    "    for ms, col in zip(measure, cols):\n",
    "        summary_part = summary1.loc[summary[('rho2', '')] == rho]\n",
    "        x = summary_part[('lam', '')]\n",
    "        y = summary_part[(ms, 'mean')]\n",
    "        err = summary_part[(ms, 'std')]\n",
    "        # ax1.errorbar(x[1:], y[1:], err[1:], color = col, marker = mk, linestyle = lty)\n",
    "        plt.errorbar(x[1:], y[1:], err[1:], color = col, marker = mk, linestyle = lty)\n",
    "\n",
    "for ax in [ax2, ]:\n",
    "    ax.set_xscale('log', base = 10)\n",
    "    # ax.set_yscale('log', base = 10)\n",
    "    ax.set_xlabel(r'$\\lambda$', fontsize = labelsize + 5,)\n",
    "    ax.set_ylabel('discrepancy', fontsize = labelsize + 5)\n",
    "    ax.tick_params(axis='both', which='major', labelsize=labelsize)\n",
    "    \n",
    "    \n",
    "\n",
    "names = ['style recovery', 'style-content\\ndisentanglement']\n",
    "\n",
    "lines = []\n",
    "labels = []\n",
    "\n",
    "for name, col in zip(names, cols):\n",
    "    labels.append(name)\n",
    "    lines.append(Line2D([0], [0], color = col, marker = 'o', linestyle = '-'))\n",
    "    \n",
    "for rho, lty, mk in zip(rhos, ltys, mks):\n",
    "    labels.append(r'$\\rho=$ '+str(rho))\n",
    "    lines.append(Line2D([0], [0], color = 'k', marker = mk, linestyle = lty))    \n",
    "\n",
    "ax2.legend(lines, labels, loc='best',  fontsize = labelsize  + 2)\n",
    "ax2.grid()\n",
    "ax.minorticks_off()\n",
    "plt.savefig('plots/sim-disentanglement.pdf', bbox_inches = 'tight')"
   ]
  },
  {
   "cell_type": "code",
   "execution_count": null,
   "metadata": {},
   "outputs": [],
   "source": []
  }
 ],
 "metadata": {
  "kernelspec": {
   "display_name": "Python 3",
   "language": "python",
   "name": "python3"
  },
  "language_info": {
   "codemirror_mode": {
    "name": "ipython",
    "version": 3
   },
   "file_extension": ".py",
   "mimetype": "text/x-python",
   "name": "python",
   "nbconvert_exporter": "python",
   "pygments_lexer": "ipython3",
   "version": "3.8.3"
  }
 },
 "nbformat": 4,
 "nbformat_minor": 5
}
